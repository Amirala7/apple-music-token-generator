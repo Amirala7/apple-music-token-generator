{
  "nbformat": 4,
  "nbformat_minor": 0,
  "metadata": {
    "colab": {
      "name": "token_generator.ipynb",
      "provenance": [],
      "collapsed_sections": [],
      "authorship_tag": "ABX9TyO5so2lbfI8Hqw+WrLWs67L",
      "include_colab_link": true
    },
    "kernelspec": {
      "name": "python3",
      "display_name": "Python 3"
    },
    "language_info": {
      "name": "python"
    }
  },
  "cells": [
    {
      "cell_type": "markdown",
      "metadata": {
        "id": "view-in-github",
        "colab_type": "text"
      },
      "source": [
        "<a href=\"https://colab.research.google.com/github/Amirala7/apple-music-token-generator/blob/master/token_generator.ipynb\" target=\"_parent\"><img src=\"https://colab.research.google.com/assets/colab-badge.svg\" alt=\"Open In Colab\"/></a>"
      ]
    },
    {
      "cell_type": "code",
      "metadata": {
        "id": "UMCCjr4Dkn-e"
      },
      "source": [
        "pip install pyjwt\n",
        "pip install cryptography"
      ],
      "execution_count": null,
      "outputs": []
    },
    {
      "cell_type": "code",
      "metadata": {
        "id": "EJ_AsJMFkyzZ"
      },
      "source": [
        "!git clone https://github.com/amirala7/apple-music-token-generator.git\n"
      ],
      "execution_count": null,
      "outputs": []
    },
    {
      "cell_type": "code",
      "metadata": {
        "id": "MksBZSOTlWPl"
      },
      "source": [
        "!python apple-music-token-generator/music_token.py\n"
      ],
      "execution_count": null,
      "outputs": []
    }
  ]
}